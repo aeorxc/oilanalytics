{
 "cells": [
  {
   "cell_type": "code",
   "execution_count": 1,
   "id": "04b8ecf2",
   "metadata": {},
   "outputs": [],
   "source": [
    "import sys\n",
    "sys.path.append('../')\n",
    "import pytest\n",
    "import xlwings as xw\n",
    "import pandas as pd\n",
    "from pylim import lim\n",
    "pd.options.display.float_format = \"{:,.2f}\".format\n",
    "from xlwings import Range, constants\n",
    "from oilanalytics.freight import tce_calc, routes, route_consts"
   ]
  },
  {
   "cell_type": "code",
   "execution_count": 2,
   "id": "07bb6d81",
   "metadata": {},
   "outputs": [],
   "source": [
    "wb = xw.Book(r'C:\\dev\\oilanalytics\\notebooks\\Baltic Exchange Tanker TCE Calculator SEP.20.xlsx')\n",
    "sh = wb.sheets['TCE Calculator']"
   ]
  },
  {
   "cell_type": "code",
   "execution_count": 3,
   "id": "881623b7",
   "metadata": {},
   "outputs": [],
   "source": [
    "route = 'tc14'"
   ]
  },
  {
   "cell_type": "code",
   "execution_count": 4,
   "id": "5036ee4a",
   "metadata": {},
   "outputs": [
    {
     "data": {
      "text/html": [
       "<div>\n",
       "<style scoped>\n",
       "    .dataframe tbody tr th:only-of-type {\n",
       "        vertical-align: middle;\n",
       "    }\n",
       "\n",
       "    .dataframe tbody tr th {\n",
       "        vertical-align: top;\n",
       "    }\n",
       "\n",
       "    .dataframe thead th {\n",
       "        text-align: right;\n",
       "    }\n",
       "</style>\n",
       "<table border=\"1\" class=\"dataframe\">\n",
       "  <thead>\n",
       "    <tr style=\"text-align: right;\">\n",
       "      <th></th>\n",
       "      <th>MGO</th>\n",
       "      <th>VLSFO</th>\n",
       "      <th>LSFO</th>\n",
       "      <th>HSFO</th>\n",
       "      <th>WorldScale</th>\n",
       "      <th>FlatRate</th>\n",
       "    </tr>\n",
       "  </thead>\n",
       "  <tbody>\n",
       "    <tr>\n",
       "      <th>2021-10-06</th>\n",
       "      <td>692.00</td>\n",
       "      <td>552.00</td>\n",
       "      <td>515.00</td>\n",
       "      <td>464.75</td>\n",
       "      <td>75.00</td>\n",
       "      <td>17.96</td>\n",
       "    </tr>\n",
       "  </tbody>\n",
       "</table>\n",
       "</div>"
      ],
      "text/plain": [
       "              MGO  VLSFO   LSFO   HSFO  WorldScale  FlatRate\n",
       "2021-10-06 692.00 552.00 515.00 464.75       75.00     17.96"
      ]
     },
     "execution_count": 4,
     "metadata": {},
     "output_type": "execute_result"
    }
   ],
   "source": [
    "df = routes.lim_data(route, start_date=\"date is within 1 days\")\n",
    "df = df.iloc[[-2]]\n",
    "df"
   ]
  },
  {
   "cell_type": "code",
   "execution_count": 5,
   "id": "c31f8b9d",
   "metadata": {},
   "outputs": [],
   "source": [
    "ws = df.iloc[0].WorldScale\n",
    "fr = df.iloc[0].FlatRate\n",
    "mgo = df.iloc[0].MGO\n",
    "vlsfo = df.iloc[0].VLSFO"
   ]
  },
  {
   "cell_type": "code",
   "execution_count": 6,
   "id": "44355b70",
   "metadata": {},
   "outputs": [],
   "source": [
    "routef = route.upper()\n",
    "sh.range(\"b7\").value = routef\n",
    "sh.range(\"C7\").value = ws\n",
    "sh.range(\"D7\").value = fr"
   ]
  },
  {
   "cell_type": "code",
   "execution_count": 7,
   "id": "82f51ec8",
   "metadata": {},
   "outputs": [],
   "source": [
    "if route in route_consts.route_using_sing_fuels:\n",
    "    sh.range(\"C16\").clear_contents()\n",
    "    sh.range(\"C17\").clear_contents()\n",
    "    sh.range(\"C14\").value = vlsfo\n",
    "    # sh.range(\"C15\").value = mgo\n",
    "else:\n",
    "    sh.range(\"C14\").clear_contents()\n",
    "    sh.range(\"C15\").clear_contents()\n",
    "    sh.range(\"C16\").value = vlsfo\n",
    "    sh.range(\"C17\").value = mgo"
   ]
  },
  {
   "cell_type": "code",
   "execution_count": 8,
   "id": "8f1c799a",
   "metadata": {},
   "outputs": [],
   "source": [
    "loadportcost = sh.range(\"c60\").value\n",
    "dischargeportcost = sh.range(\"c61\").value"
   ]
  },
  {
   "cell_type": "code",
   "execution_count": 9,
   "id": "4f84b3d0",
   "metadata": {},
   "outputs": [
    {
     "data": {
      "text/plain": [
       "{'FlatRate': 17.96,\n",
       " 'WorldScale': 75.0,\n",
       " 'MGO': 687.0,\n",
       " 'VLSFO': 547.0,\n",
       " 'HSFO': 547.0,\n",
       " 'LoadPortCosts': 37725.0,\n",
       " 'DischargePortCosts': 66893.3317371004}"
      ]
     },
     "execution_count": 9,
     "metadata": {},
     "output_type": "execute_result"
    }
   ],
   "source": [
    "dd = {\n",
    "    'FlatRate': fr,\n",
    "    'WorldScale': ws,\n",
    "    'MGO': mgo-5,\n",
    "    'VLSFO': vlsfo-5,    \n",
    "    'HSFO': vlsfo-5, \n",
    "    'LoadPortCosts': loadportcost,\n",
    "    'DischargePortCosts': dischargeportcost\n",
    "}\n",
    "dd"
   ]
  },
  {
   "cell_type": "code",
   "execution_count": 10,
   "id": "ce87e1e2",
   "metadata": {},
   "outputs": [
    {
     "data": {
      "text/html": [
       "<div>\n",
       "<style scoped>\n",
       "    .dataframe tbody tr th:only-of-type {\n",
       "        vertical-align: middle;\n",
       "    }\n",
       "\n",
       "    .dataframe tbody tr th {\n",
       "        vertical-align: top;\n",
       "    }\n",
       "\n",
       "    .dataframe thead th {\n",
       "        text-align: right;\n",
       "    }\n",
       "</style>\n",
       "<table border=\"1\" class=\"dataframe\">\n",
       "  <thead>\n",
       "    <tr style=\"text-align: right;\">\n",
       "      <th></th>\n",
       "      <th>FlatRate</th>\n",
       "      <th>WorldScale</th>\n",
       "      <th>MGO</th>\n",
       "      <th>VLSFO</th>\n",
       "      <th>HSFO</th>\n",
       "      <th>LoadPortCosts</th>\n",
       "      <th>DischargePortCosts</th>\n",
       "      <th>Freight_USDMT</th>\n",
       "      <th>GrossFreight</th>\n",
       "      <th>BunkerCost</th>\n",
       "      <th>NetFreight</th>\n",
       "      <th>TotalExpenses</th>\n",
       "      <th>NetIncome</th>\n",
       "      <th>TCE</th>\n",
       "    </tr>\n",
       "  </thead>\n",
       "  <tbody>\n",
       "    <tr>\n",
       "      <th>2021-10-06</th>\n",
       "      <td>17.96</td>\n",
       "      <td>75.00</td>\n",
       "      <td>687.00</td>\n",
       "      <td>547.00</td>\n",
       "      <td>547.00</td>\n",
       "      <td>37,725.00</td>\n",
       "      <td>66,893.33</td>\n",
       "      <td>13.47</td>\n",
       "      <td>511,860.00</td>\n",
       "      <td>570,553.00</td>\n",
       "      <td>499,063.50</td>\n",
       "      <td>675,171.33</td>\n",
       "      <td>-176,107.83</td>\n",
       "      <td>-4,370.47</td>\n",
       "    </tr>\n",
       "  </tbody>\n",
       "</table>\n",
       "</div>"
      ],
      "text/plain": [
       "            FlatRate  WorldScale    MGO  VLSFO   HSFO  LoadPortCosts  \\\n",
       "2021-10-06     17.96       75.00 687.00 547.00 547.00      37,725.00   \n",
       "\n",
       "            DischargePortCosts  Freight_USDMT  GrossFreight  BunkerCost  \\\n",
       "2021-10-06           66,893.33          13.47    511,860.00  570,553.00   \n",
       "\n",
       "            NetFreight  TotalExpenses   NetIncome       TCE  \n",
       "2021-10-06  499,063.50     675,171.33 -176,107.83 -4,370.47  "
      ]
     },
     "execution_count": 10,
     "metadata": {},
     "output_type": "execute_result"
    }
   ],
   "source": [
    "ds = df.index[0]\n",
    "data = pd.DataFrame(dd, index=[pd.to_datetime(ds)])\n",
    "res = tce_calc.calc(route, data)\n",
    "res"
   ]
  },
  {
   "cell_type": "code",
   "execution_count": 11,
   "id": "8f48da44",
   "metadata": {},
   "outputs": [
    {
     "name": "stderr",
     "output_type": "stream",
     "text": [
      "C:\\Users\\ui906879\\AppData\\Local\\Temp\\1/ipykernel_26264/2024915855.py:4: DeprecationWarning: The default dtype for empty Series will be 'object' instead of 'float64' in a future version. Specify a dtype explicitly to silence this warning.\n",
      "  cmp['Code'] = pd.Series()\n"
     ]
    },
    {
     "data": {
      "text/html": [
       "<div>\n",
       "<style scoped>\n",
       "    .dataframe tbody tr th:only-of-type {\n",
       "        vertical-align: middle;\n",
       "    }\n",
       "\n",
       "    .dataframe tbody tr th {\n",
       "        vertical-align: top;\n",
       "    }\n",
       "\n",
       "    .dataframe thead th {\n",
       "        text-align: right;\n",
       "    }\n",
       "</style>\n",
       "<table border=\"1\" class=\"dataframe\">\n",
       "  <thead>\n",
       "    <tr style=\"text-align: right;\">\n",
       "      <th></th>\n",
       "      <th>Baltic</th>\n",
       "      <th>Code</th>\n",
       "    </tr>\n",
       "    <tr>\n",
       "      <th>0</th>\n",
       "      <th></th>\n",
       "      <th></th>\n",
       "    </tr>\n",
       "  </thead>\n",
       "  <tbody>\n",
       "    <tr>\n",
       "      <th>Gross Freight</th>\n",
       "      <td>511,860.00</td>\n",
       "      <td>511,860.00</td>\n",
       "    </tr>\n",
       "    <tr>\n",
       "      <th>Net Freight</th>\n",
       "      <td>499,063.50</td>\n",
       "      <td>NaN</td>\n",
       "    </tr>\n",
       "    <tr>\n",
       "      <th>Bunker Cost</th>\n",
       "      <td>570,549.36</td>\n",
       "      <td>570,553.00</td>\n",
       "    </tr>\n",
       "    <tr>\n",
       "      <th>Total Expenses</th>\n",
       "      <td>675,167.69</td>\n",
       "      <td>675,171.33</td>\n",
       "    </tr>\n",
       "    <tr>\n",
       "      <th>Net Income</th>\n",
       "      <td>-176,104.19</td>\n",
       "      <td>-176,107.83</td>\n",
       "    </tr>\n",
       "    <tr>\n",
       "      <th>- Gross</th>\n",
       "      <td>-4,052.81</td>\n",
       "      <td>NaN</td>\n",
       "    </tr>\n",
       "    <tr>\n",
       "      <th>- Net</th>\n",
       "      <td>-4,370.38</td>\n",
       "      <td>NaN</td>\n",
       "    </tr>\n",
       "    <tr>\n",
       "      <th>Baltic TCE</th>\n",
       "      <td>-4,370.00</td>\n",
       "      <td>-4,370.47</td>\n",
       "    </tr>\n",
       "  </tbody>\n",
       "</table>\n",
       "</div>"
      ],
      "text/plain": [
       "                    Baltic        Code\n",
       "0                                     \n",
       "Gross Freight   511,860.00  511,860.00\n",
       "Net Freight     499,063.50         NaN\n",
       "Bunker Cost     570,549.36  570,553.00\n",
       "Total Expenses  675,167.69  675,171.33\n",
       "Net Income     -176,104.19 -176,107.83\n",
       "- Gross          -4,052.81         NaN\n",
       "- Net            -4,370.38         NaN\n",
       "Baltic TCE       -4,370.00   -4,370.47"
      ]
     },
     "execution_count": 11,
     "metadata": {},
     "output_type": "execute_result"
    }
   ],
   "source": [
    "cmp = sh.range(\"B79:C86\").value\n",
    "cmp = pd.DataFrame(cmp).set_index(0)\n",
    "cmp = cmp.rename(columns={1:'Baltic'})\n",
    "cmp['Code'] = pd.Series()\n",
    "cmp.loc['Gross Freight', 'Code'] = res['GrossFreight'].iloc[0]\n",
    "cmp.loc['Bunker Cost', 'Code'] = res['BunkerCost'].iloc[0]\n",
    "cmp.loc['Net Income', 'Code'] = res['NetIncome'].iloc[0]\n",
    "cmp.loc['Total Expenses', 'Code'] = res['TotalExpenses'].iloc[0]\n",
    "cmp.loc['Baltic TCE', 'Code'] = res['TCE'].iloc[0]\n",
    "cmp"
   ]
  },
  {
   "cell_type": "code",
   "execution_count": null,
   "id": "255b5b73",
   "metadata": {},
   "outputs": [],
   "source": []
  },
  {
   "cell_type": "code",
   "execution_count": 12,
   "id": "c9aeaf06",
   "metadata": {},
   "outputs": [],
   "source": [
    "# gross freight\n",
    "assert sh.range(\"C79\").value == pytest.approx(res['GrossFreight'].iloc[0], abs=1e-1)"
   ]
  },
  {
   "cell_type": "code",
   "execution_count": 13,
   "id": "943a762e",
   "metadata": {},
   "outputs": [
    {
     "ename": "AssertionError",
     "evalue": "",
     "output_type": "error",
     "traceback": [
      "\u001b[1;31m---------------------------------------------------------------------------\u001b[0m",
      "\u001b[1;31mAssertionError\u001b[0m                            Traceback (most recent call last)",
      "\u001b[1;32m~\\AppData\\Local\\Temp\\1/ipykernel_26264/2142579820.py\u001b[0m in \u001b[0;36m<module>\u001b[1;34m\u001b[0m\n\u001b[0;32m      1\u001b[0m \u001b[1;31m# bunker cost\u001b[0m\u001b[1;33m\u001b[0m\u001b[1;33m\u001b[0m\u001b[0m\n\u001b[1;32m----> 2\u001b[1;33m \u001b[1;32massert\u001b[0m \u001b[0msh\u001b[0m\u001b[1;33m.\u001b[0m\u001b[0mrange\u001b[0m\u001b[1;33m(\u001b[0m\u001b[1;34m\"C81\"\u001b[0m\u001b[1;33m)\u001b[0m\u001b[1;33m.\u001b[0m\u001b[0mvalue\u001b[0m \u001b[1;33m==\u001b[0m \u001b[0mpytest\u001b[0m\u001b[1;33m.\u001b[0m\u001b[0mapprox\u001b[0m\u001b[1;33m(\u001b[0m\u001b[0mres\u001b[0m\u001b[1;33m[\u001b[0m\u001b[1;34m'BunkerCost'\u001b[0m\u001b[1;33m]\u001b[0m\u001b[1;33m.\u001b[0m\u001b[0miloc\u001b[0m\u001b[1;33m[\u001b[0m\u001b[1;36m0\u001b[0m\u001b[1;33m]\u001b[0m\u001b[1;33m,\u001b[0m \u001b[0mabs\u001b[0m\u001b[1;33m=\u001b[0m\u001b[1;36m1e-1\u001b[0m\u001b[1;33m)\u001b[0m\u001b[1;33m\u001b[0m\u001b[1;33m\u001b[0m\u001b[0m\n\u001b[0m",
      "\u001b[1;31mAssertionError\u001b[0m: "
     ]
    }
   ],
   "source": [
    "# bunker cost\n",
    "assert sh.range(\"C81\").value == pytest.approx(res['BunkerCost'].iloc[0], abs=1e-1)"
   ]
  },
  {
   "cell_type": "code",
   "execution_count": null,
   "id": "f7268286",
   "metadata": {},
   "outputs": [],
   "source": [
    "# tce\n",
    "assert sh.range(\"C86\").value == pytest.approx(res['TCE'].iloc[0], abs=1e-1)"
   ]
  },
  {
   "cell_type": "code",
   "execution_count": 14,
   "id": "5869743d",
   "metadata": {},
   "outputs": [
    {
     "name": "stdout",
     "output_type": "stream",
     "text": [
      "assert res['GrossFreight'][ds] ==  pytest.approx(511860.00, abs=1e-1)\n",
      "assert res['BunkerCost'][ds] ==  pytest.approx(570553.00, abs=1e-1)\n",
      "assert res['TCE'][ds] ==  pytest.approx(-4370.47, abs=1e-1)\n"
     ]
    }
   ],
   "source": [
    "print(\"assert res['GrossFreight'][ds] ==  pytest.approx(%.2f, abs=1e-1)\" % res['GrossFreight'].iloc[0])\n",
    "print(\"assert res['BunkerCost'][ds] ==  pytest.approx(%.2f, abs=1e-1)\" % res['BunkerCost'].iloc[0])\n",
    "print(\"assert res['TCE'][ds] ==  pytest.approx(%.2f, abs=1e-1)\" % res['TCE'].iloc[0])"
   ]
  }
 ],
 "metadata": {
  "kernelspec": {
   "display_name": "Python 3 (ipykernel)",
   "language": "python",
   "name": "python3"
  },
  "language_info": {
   "codemirror_mode": {
    "name": "ipython",
    "version": 3
   },
   "file_extension": ".py",
   "mimetype": "text/x-python",
   "name": "python",
   "nbconvert_exporter": "python",
   "pygments_lexer": "ipython3",
   "version": "3.9.7"
  }
 },
 "nbformat": 4,
 "nbformat_minor": 5
}
