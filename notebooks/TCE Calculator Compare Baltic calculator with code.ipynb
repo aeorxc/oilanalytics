{
 "cells": [
  {
   "cell_type": "code",
   "execution_count": 27,
   "id": "04b8ecf2",
   "metadata": {},
   "outputs": [],
   "source": [
    "import sys\n",
    "sys.path.append('../')\n",
    "import pytest\n",
    "import xlwings as xw\n",
    "import pandas as pd\n",
    "from pylim import lim\n",
    "pd.options.display.float_format = \"{:,.2f}\".format\n",
    "from xlwings import Range, constants\n",
    "from oilanalytics.freight import tce_calc, routes"
   ]
  },
  {
   "cell_type": "code",
   "execution_count": 28,
   "id": "07bb6d81",
   "metadata": {},
   "outputs": [],
   "source": [
    "wb = xw.Book(r'C:\\dev\\oilanalytics\\notebooks\\Baltic Exchange Tanker TCE Calculator SEP.20.xlsx')\n",
    "sh = wb.sheets['TCE Calculator']"
   ]
  },
  {
   "cell_type": "code",
   "execution_count": 29,
   "id": "292288d9",
   "metadata": {},
   "outputs": [],
   "source": [
    "route = 'tc12'"
   ]
  },
  {
   "cell_type": "code",
   "execution_count": 30,
   "id": "e9ac6dbc",
   "metadata": {},
   "outputs": [
    {
     "data": {
      "text/html": [
       "<div>\n",
       "<style scoped>\n",
       "    .dataframe tbody tr th:only-of-type {\n",
       "        vertical-align: middle;\n",
       "    }\n",
       "\n",
       "    .dataframe tbody tr th {\n",
       "        vertical-align: top;\n",
       "    }\n",
       "\n",
       "    .dataframe thead th {\n",
       "        text-align: right;\n",
       "    }\n",
       "</style>\n",
       "<table border=\"1\" class=\"dataframe\">\n",
       "  <thead>\n",
       "    <tr style=\"text-align: right;\">\n",
       "      <th></th>\n",
       "      <th>MGO</th>\n",
       "      <th>VLSFO</th>\n",
       "      <th>HSFO</th>\n",
       "      <th>WorldScale</th>\n",
       "      <th>FlatRate</th>\n",
       "    </tr>\n",
       "  </thead>\n",
       "  <tbody>\n",
       "    <tr>\n",
       "      <th>2021-10-06</th>\n",
       "      <td>92.67</td>\n",
       "      <td>577.27</td>\n",
       "      <td>498.99</td>\n",
       "      <td>125.63</td>\n",
       "      <td>18.74</td>\n",
       "    </tr>\n",
       "  </tbody>\n",
       "</table>\n",
       "</div>"
      ],
      "text/plain": [
       "             MGO  VLSFO   HSFO  WorldScale  FlatRate\n",
       "2021-10-06 92.67 577.27 498.99      125.63     18.74"
      ]
     },
     "execution_count": 30,
     "metadata": {},
     "output_type": "execute_result"
    }
   ],
   "source": [
    "df = routes.lim_data(route, start_date=\"date is within 1 days\")\n",
    "df = df.iloc[[-2]]\n",
    "df"
   ]
  },
  {
   "cell_type": "code",
   "execution_count": 31,
   "id": "48e06179",
   "metadata": {},
   "outputs": [],
   "source": [
    "ws = df.iloc[0].WorldScale\n",
    "fr = df.iloc[0].FlatRate\n",
    "mgo = df.iloc[0].MGO\n",
    "vlsfo = df.iloc[0].VLSFO"
   ]
  },
  {
   "cell_type": "code",
   "execution_count": 32,
   "id": "be7e564a",
   "metadata": {},
   "outputs": [],
   "source": [
    "routef = route.upper()\n",
    "sh.range(\"b7\").value = routef\n",
    "sh.range(\"C7\").value = ws\n",
    "sh.range(\"D7\").value = fr"
   ]
  },
  {
   "cell_type": "code",
   "execution_count": 33,
   "id": "ddd32360",
   "metadata": {},
   "outputs": [],
   "source": [
    "sh.range(\"C14\").value = vlsfo\n",
    "# sh.range(\"C15\").value = mgo"
   ]
  },
  {
   "cell_type": "code",
   "execution_count": 34,
   "id": "6f49d058",
   "metadata": {},
   "outputs": [],
   "source": [
    "loadportcost = sh.range(\"c60\").value\n",
    "dischargeportcost = sh.range(\"c61\").value"
   ]
  },
  {
   "cell_type": "code",
   "execution_count": 35,
   "id": "2944a4b0",
   "metadata": {},
   "outputs": [
    {
     "data": {
      "text/plain": [
       "{'FlatRate': 18.740000000000002,\n",
       " 'WorldScale': 125.63,\n",
       " 'MGO': 87.67,\n",
       " 'VLSFO': 572.27,\n",
       " 'HSFO': 572.27,\n",
       " 'LoadPortCosts': 40545.0,\n",
       " 'DischargePortCosts': 39769.76290097629}"
      ]
     },
     "execution_count": 35,
     "metadata": {},
     "output_type": "execute_result"
    }
   ],
   "source": [
    "dd = {\n",
    "    'FlatRate': fr,\n",
    "    'WorldScale': ws,\n",
    "    'MGO': mgo-5,\n",
    "    'VLSFO': vlsfo-5,    \n",
    "    'HSFO': vlsfo-5, \n",
    "    'LoadPortCosts': loadportcost,\n",
    "    'DischargePortCosts': dischargeportcost\n",
    "}\n",
    "dd"
   ]
  },
  {
   "cell_type": "code",
   "execution_count": 36,
   "id": "6a431483",
   "metadata": {},
   "outputs": [
    {
     "data": {
      "text/html": [
       "<div>\n",
       "<style scoped>\n",
       "    .dataframe tbody tr th:only-of-type {\n",
       "        vertical-align: middle;\n",
       "    }\n",
       "\n",
       "    .dataframe tbody tr th {\n",
       "        vertical-align: top;\n",
       "    }\n",
       "\n",
       "    .dataframe thead th {\n",
       "        text-align: right;\n",
       "    }\n",
       "</style>\n",
       "<table border=\"1\" class=\"dataframe\">\n",
       "  <thead>\n",
       "    <tr style=\"text-align: right;\">\n",
       "      <th></th>\n",
       "      <th>FlatRate</th>\n",
       "      <th>WorldScale</th>\n",
       "      <th>MGO</th>\n",
       "      <th>VLSFO</th>\n",
       "      <th>HSFO</th>\n",
       "      <th>LoadPortCosts</th>\n",
       "      <th>DischargePortCosts</th>\n",
       "      <th>Freight_USDMT</th>\n",
       "      <th>GrossFreight</th>\n",
       "      <th>BunkerCost</th>\n",
       "      <th>NetFreight</th>\n",
       "      <th>TotalExpenses</th>\n",
       "      <th>NetIncome</th>\n",
       "      <th>TCE</th>\n",
       "    </tr>\n",
       "  </thead>\n",
       "  <tbody>\n",
       "    <tr>\n",
       "      <th>2021-10-06</th>\n",
       "      <td>18.74</td>\n",
       "      <td>125.63</td>\n",
       "      <td>653.14</td>\n",
       "      <td>572.27</td>\n",
       "      <td>572.27</td>\n",
       "      <td>40,545.00</td>\n",
       "      <td>39,769.76</td>\n",
       "      <td>23.54</td>\n",
       "      <td>832,407.17</td>\n",
       "      <td>608,348.48</td>\n",
       "      <td>801,191.90</td>\n",
       "      <td>688,663.25</td>\n",
       "      <td>112,528.65</td>\n",
       "      <td>2,543.25</td>\n",
       "    </tr>\n",
       "  </tbody>\n",
       "</table>\n",
       "</div>"
      ],
      "text/plain": [
       "            FlatRate  WorldScale    MGO  VLSFO   HSFO  LoadPortCosts  \\\n",
       "2021-10-06     18.74      125.63 653.14 572.27 572.27      40,545.00   \n",
       "\n",
       "            DischargePortCosts  Freight_USDMT  GrossFreight  BunkerCost  \\\n",
       "2021-10-06           39,769.76          23.54    832,407.17  608,348.48   \n",
       "\n",
       "            NetFreight  TotalExpenses  NetIncome      TCE  \n",
       "2021-10-06  801,191.90     688,663.25 112,528.65 2,543.25  "
      ]
     },
     "execution_count": 36,
     "metadata": {},
     "output_type": "execute_result"
    }
   ],
   "source": [
    "ds = df.index[0]\n",
    "data = pd.DataFrame(dd, index=[pd.to_datetime(ds)])\n",
    "res = tce_calc.calc(route, data)\n",
    "res"
   ]
  },
  {
   "cell_type": "code",
   "execution_count": 37,
   "id": "8d15ef0e",
   "metadata": {},
   "outputs": [
    {
     "name": "stderr",
     "output_type": "stream",
     "text": [
      "C:\\Users\\ui906879\\AppData\\Local\\Temp\\1/ipykernel_27544/2024915855.py:4: DeprecationWarning: The default dtype for empty Series will be 'object' instead of 'float64' in a future version. Specify a dtype explicitly to silence this warning.\n",
      "  cmp['Code'] = pd.Series()\n"
     ]
    },
    {
     "data": {
      "text/html": [
       "<div>\n",
       "<style scoped>\n",
       "    .dataframe tbody tr th:only-of-type {\n",
       "        vertical-align: middle;\n",
       "    }\n",
       "\n",
       "    .dataframe tbody tr th {\n",
       "        vertical-align: top;\n",
       "    }\n",
       "\n",
       "    .dataframe thead th {\n",
       "        text-align: right;\n",
       "    }\n",
       "</style>\n",
       "<table border=\"1\" class=\"dataframe\">\n",
       "  <thead>\n",
       "    <tr style=\"text-align: right;\">\n",
       "      <th></th>\n",
       "      <th>Baltic</th>\n",
       "      <th>Code</th>\n",
       "    </tr>\n",
       "    <tr>\n",
       "      <th>0</th>\n",
       "      <th></th>\n",
       "      <th></th>\n",
       "    </tr>\n",
       "  </thead>\n",
       "  <tbody>\n",
       "    <tr>\n",
       "      <th>Gross Freight</th>\n",
       "      <td>832,407.17</td>\n",
       "      <td>832,407.17</td>\n",
       "    </tr>\n",
       "    <tr>\n",
       "      <th>Net Freight</th>\n",
       "      <td>801,191.90</td>\n",
       "      <td>NaN</td>\n",
       "    </tr>\n",
       "    <tr>\n",
       "      <th>Bunker Cost</th>\n",
       "      <td>608,348.39</td>\n",
       "      <td>608,348.48</td>\n",
       "    </tr>\n",
       "    <tr>\n",
       "      <th>Total Expenses</th>\n",
       "      <td>688,663.15</td>\n",
       "      <td>688,663.25</td>\n",
       "    </tr>\n",
       "    <tr>\n",
       "      <th>Net Income</th>\n",
       "      <td>112,528.75</td>\n",
       "      <td>112,528.65</td>\n",
       "    </tr>\n",
       "    <tr>\n",
       "      <th>- Gross</th>\n",
       "      <td>3,248.74</td>\n",
       "      <td>NaN</td>\n",
       "    </tr>\n",
       "    <tr>\n",
       "      <th>- Net</th>\n",
       "      <td>2,543.25</td>\n",
       "      <td>NaN</td>\n",
       "    </tr>\n",
       "    <tr>\n",
       "      <th>Baltic TCE</th>\n",
       "      <td>2,543.00</td>\n",
       "      <td>2,543.25</td>\n",
       "    </tr>\n",
       "  </tbody>\n",
       "</table>\n",
       "</div>"
      ],
      "text/plain": [
       "                   Baltic       Code\n",
       "0                                   \n",
       "Gross Freight  832,407.17 832,407.17\n",
       "Net Freight    801,191.90        NaN\n",
       "Bunker Cost    608,348.39 608,348.48\n",
       "Total Expenses 688,663.15 688,663.25\n",
       "Net Income     112,528.75 112,528.65\n",
       "- Gross          3,248.74        NaN\n",
       "- Net            2,543.25        NaN\n",
       "Baltic TCE       2,543.00   2,543.25"
      ]
     },
     "execution_count": 37,
     "metadata": {},
     "output_type": "execute_result"
    }
   ],
   "source": [
    "cmp = sh.range(\"B79:C86\").value\n",
    "cmp = pd.DataFrame(cmp).set_index(0)\n",
    "cmp = cmp.rename(columns={1:'Baltic'})\n",
    "cmp['Code'] = pd.Series()\n",
    "cmp.loc['Gross Freight', 'Code'] = res['GrossFreight'].iloc[0]\n",
    "cmp.loc['Bunker Cost', 'Code'] = res['BunkerCost'].iloc[0]\n",
    "cmp.loc['Net Income', 'Code'] = res['NetIncome'].iloc[0]\n",
    "cmp.loc['Total Expenses', 'Code'] = res['TotalExpenses'].iloc[0]\n",
    "cmp.loc['Baltic TCE', 'Code'] = res['TCE'].iloc[0]\n",
    "cmp"
   ]
  },
  {
   "cell_type": "code",
   "execution_count": null,
   "id": "b356fc22",
   "metadata": {},
   "outputs": [],
   "source": []
  },
  {
   "cell_type": "code",
   "execution_count": 38,
   "id": "bb64af62",
   "metadata": {},
   "outputs": [],
   "source": [
    "# gross freight\n",
    "assert sh.range(\"C79\").value == pytest.approx(res['GrossFreight'].iloc[0], abs=1e-1)"
   ]
  },
  {
   "cell_type": "code",
   "execution_count": 39,
   "id": "943a762e",
   "metadata": {},
   "outputs": [],
   "source": [
    "# bunker cost\n",
    "assert sh.range(\"C81\").value == pytest.approx(res['BunkerCost'].iloc[0], abs=1e-1)"
   ]
  },
  {
   "cell_type": "code",
   "execution_count": 40,
   "id": "f7268286",
   "metadata": {},
   "outputs": [
    {
     "ename": "AssertionError",
     "evalue": "",
     "output_type": "error",
     "traceback": [
      "\u001b[1;31m---------------------------------------------------------------------------\u001b[0m",
      "\u001b[1;31mAssertionError\u001b[0m                            Traceback (most recent call last)",
      "\u001b[1;32m~\\AppData\\Local\\Temp\\1/ipykernel_27544/1549163325.py\u001b[0m in \u001b[0;36m<module>\u001b[1;34m\u001b[0m\n\u001b[0;32m      1\u001b[0m \u001b[1;31m# tce\u001b[0m\u001b[1;33m\u001b[0m\u001b[1;33m\u001b[0m\u001b[0m\n\u001b[1;32m----> 2\u001b[1;33m \u001b[1;32massert\u001b[0m \u001b[0msh\u001b[0m\u001b[1;33m.\u001b[0m\u001b[0mrange\u001b[0m\u001b[1;33m(\u001b[0m\u001b[1;34m\"C86\"\u001b[0m\u001b[1;33m)\u001b[0m\u001b[1;33m.\u001b[0m\u001b[0mvalue\u001b[0m \u001b[1;33m==\u001b[0m \u001b[0mpytest\u001b[0m\u001b[1;33m.\u001b[0m\u001b[0mapprox\u001b[0m\u001b[1;33m(\u001b[0m\u001b[0mres\u001b[0m\u001b[1;33m[\u001b[0m\u001b[1;34m'TCE'\u001b[0m\u001b[1;33m]\u001b[0m\u001b[1;33m.\u001b[0m\u001b[0miloc\u001b[0m\u001b[1;33m[\u001b[0m\u001b[1;36m0\u001b[0m\u001b[1;33m]\u001b[0m\u001b[1;33m,\u001b[0m \u001b[0mabs\u001b[0m\u001b[1;33m=\u001b[0m\u001b[1;36m1e-1\u001b[0m\u001b[1;33m)\u001b[0m\u001b[1;33m\u001b[0m\u001b[1;33m\u001b[0m\u001b[0m\n\u001b[0m",
      "\u001b[1;31mAssertionError\u001b[0m: "
     ]
    }
   ],
   "source": [
    "# tce\n",
    "assert sh.range(\"C86\").value == pytest.approx(res['TCE'].iloc[0], abs=1e-1)"
   ]
  },
  {
   "cell_type": "code",
   "execution_count": 42,
   "id": "4c2c5dc3",
   "metadata": {},
   "outputs": [
    {
     "name": "stdout",
     "output_type": "stream",
     "text": [
      "assert res['GrossFreight'][ds] ==  pytest.approx(832407.17, abs=1e-1)\n",
      "assert res['BunkerCost'][ds] ==  pytest.approx(608348.48, abs=1e-1))\n",
      "assert res['TCE'][ds] ==  pytest.approx(2543.25, abs=1e-1))\n"
     ]
    }
   ],
   "source": [
    "print(\"assert res['GrossFreight'][ds] ==  pytest.approx(%.2f, abs=1e-1)\" % res['GrossFreight'].iloc[0])\n",
    "print(\"assert res['BunkerCost'][ds] ==  pytest.approx(%.2f, abs=1e-1)\" % res['BunkerCost'].iloc[0])\n",
    "print(\"assert res['TCE'][ds] ==  pytest.approx(%.2f, abs=1e-1)\" % res['TCE'].iloc[0])"
   ]
  }
 ],
 "metadata": {
  "kernelspec": {
   "display_name": "Python 3 (ipykernel)",
   "language": "python",
   "name": "python3"
  },
  "language_info": {
   "codemirror_mode": {
    "name": "ipython",
    "version": 3
   },
   "file_extension": ".py",
   "mimetype": "text/x-python",
   "name": "python",
   "nbconvert_exporter": "python",
   "pygments_lexer": "ipython3",
   "version": "3.9.7"
  }
 },
 "nbformat": 4,
 "nbformat_minor": 5
}
