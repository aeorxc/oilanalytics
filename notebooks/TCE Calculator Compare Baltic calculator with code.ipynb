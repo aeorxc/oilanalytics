{
 "cells": [
  {
   "cell_type": "code",
   "execution_count": 16,
   "id": "04b8ecf2",
   "metadata": {},
   "outputs": [],
   "source": [
    "import sys\n",
    "sys.path.append('../')\n",
    "import pytest\n",
    "import xlwings as xw\n",
    "import pandas as pd\n",
    "from pylim import lim\n",
    "pd.options.display.float_format = \"{:,.2f}\".format\n",
    "from xlwings import Range, constants\n",
    "from oilanalytics.freight import tce_calc"
   ]
  },
  {
   "cell_type": "code",
   "execution_count": 2,
   "id": "07bb6d81",
   "metadata": {},
   "outputs": [],
   "source": [
    "wb = xw.Book(r'C:\\dev\\oilanalytics\\notebooks\\Baltic Exchange Tanker TCE Calculator SEP.20.xlsx')\n",
    "sh = wb.sheets['TCE Calculator']"
   ]
  },
  {
   "cell_type": "code",
   "execution_count": null,
   "id": "1ae63849",
   "metadata": {},
   "outputs": [],
   "source": []
  },
  {
   "cell_type": "code",
   "execution_count": 3,
   "id": "9c08c4cf",
   "metadata": {},
   "outputs": [
    {
     "data": {
      "text/html": [
       "<div>\n",
       "<style scoped>\n",
       "    .dataframe tbody tr th:only-of-type {\n",
       "        vertical-align: middle;\n",
       "    }\n",
       "\n",
       "    .dataframe tbody tr th {\n",
       "        vertical-align: top;\n",
       "    }\n",
       "\n",
       "    .dataframe thead th {\n",
       "        text-align: right;\n",
       "    }\n",
       "</style>\n",
       "<table border=\"1\" class=\"dataframe\">\n",
       "  <thead>\n",
       "    <tr style=\"text-align: right;\">\n",
       "      <th></th>\n",
       "      <th>FlatRate</th>\n",
       "      <th>WorldScale</th>\n",
       "      <th>MGO</th>\n",
       "      <th>VLSFO</th>\n",
       "      <th>HSFO</th>\n",
       "      <th>LoadPortCosts</th>\n",
       "      <th>DischargePortCosts</th>\n",
       "      <th>Freight_USDMT</th>\n",
       "      <th>GrossFreight</th>\n",
       "      <th>BunkerCost</th>\n",
       "      <th>NetFreight</th>\n",
       "      <th>TotalCosts</th>\n",
       "      <th>NetIncome</th>\n",
       "      <th>TCE</th>\n",
       "    </tr>\n",
       "  </thead>\n",
       "  <tbody>\n",
       "    <tr>\n",
       "      <th>2021-10-06</th>\n",
       "      <td>20.50</td>\n",
       "      <td>103.14</td>\n",
       "      <td>2,644.76</td>\n",
       "      <td>577.27</td>\n",
       "      <td>225.79</td>\n",
       "      <td>21,181.07</td>\n",
       "      <td>54,347.78</td>\n",
       "      <td>21.14</td>\n",
       "      <td>1,177,753.50</td>\n",
       "      <td>853,965.33</td>\n",
       "      <td>1,133,587.74</td>\n",
       "      <td>929,494.18</td>\n",
       "      <td>204,093.56</td>\n",
       "      <td>4,035.93</td>\n",
       "    </tr>\n",
       "  </tbody>\n",
       "</table>\n",
       "</div>"
      ],
      "text/plain": [
       "            FlatRate  WorldScale      MGO  VLSFO   HSFO  LoadPortCosts  \\\n",
       "2021-10-06     20.50      103.14 2,644.76 577.27 225.79      21,181.07   \n",
       "\n",
       "            DischargePortCosts  Freight_USDMT  GrossFreight  BunkerCost  \\\n",
       "2021-10-06           54,347.78          21.14  1,177,753.50  853,965.33   \n",
       "\n",
       "             NetFreight  TotalCosts  NetIncome      TCE  \n",
       "2021-10-06 1,133,587.74  929,494.18 204,093.56 4,035.93  "
      ]
     },
     "execution_count": 3,
     "metadata": {},
     "output_type": "execute_result"
    }
   ],
   "source": [
    "route = 'tc5'\n",
    "ds = '2021-10-06'\n",
    "\n",
    "dd = {\n",
    "    'FlatRate': 20.5,\n",
    "    'WorldScale': 103.14,\n",
    "    'MGO': 355.001,\n",
    "    'VLSFO': 577.27,\n",
    "    'HSFO': 225.79,\n",
    "    'LoadPortCosts': 21181.07,\n",
    "    'DischargePortCosts': 54347.78,\n",
    "}\n",
    "\n",
    "data = pd.DataFrame(dd, index=[pd.to_datetime(ds)])\n",
    "res = tce_calc.calc(route, data)\n",
    "\n",
    "res"
   ]
  },
  {
   "cell_type": "code",
   "execution_count": 4,
   "id": "2eaab181",
   "metadata": {},
   "outputs": [],
   "source": [
    "routef = route.upper()\n",
    "sh.range(\"b7\").value = routef\n",
    "sh.range(\"C7\").value = dd['WorldScale']\n",
    "sh.range(\"D7\").value = dd['FlatRate']"
   ]
  },
  {
   "cell_type": "code",
   "execution_count": 5,
   "id": "7abf9c4a",
   "metadata": {},
   "outputs": [
    {
     "name": "stderr",
     "output_type": "stream",
     "text": [
      "C:\\Users\\ui906879\\AppData\\Local\\Temp\\1/ipykernel_34040/2462558968.py:4: DeprecationWarning: The default dtype for empty Series will be 'object' instead of 'float64' in a future version. Specify a dtype explicitly to silence this warning.\n",
      "  cmp['Code'] = pd.Series()\n"
     ]
    },
    {
     "data": {
      "text/html": [
       "<div>\n",
       "<style scoped>\n",
       "    .dataframe tbody tr th:only-of-type {\n",
       "        vertical-align: middle;\n",
       "    }\n",
       "\n",
       "    .dataframe tbody tr th {\n",
       "        vertical-align: top;\n",
       "    }\n",
       "\n",
       "    .dataframe thead th {\n",
       "        text-align: right;\n",
       "    }\n",
       "</style>\n",
       "<table border=\"1\" class=\"dataframe\">\n",
       "  <thead>\n",
       "    <tr style=\"text-align: right;\">\n",
       "      <th></th>\n",
       "      <th>Baltic</th>\n",
       "      <th>Code</th>\n",
       "    </tr>\n",
       "    <tr>\n",
       "      <th>0</th>\n",
       "      <th></th>\n",
       "      <th></th>\n",
       "    </tr>\n",
       "  </thead>\n",
       "  <tbody>\n",
       "    <tr>\n",
       "      <th>Gross Freight</th>\n",
       "      <td>1,177,753.50</td>\n",
       "      <td>1,177,753.50</td>\n",
       "    </tr>\n",
       "    <tr>\n",
       "      <th>Net Freight</th>\n",
       "      <td>1,133,587.74</td>\n",
       "      <td>NaN</td>\n",
       "    </tr>\n",
       "    <tr>\n",
       "      <th>Bunker Cost</th>\n",
       "      <td>853,965.28</td>\n",
       "      <td>853,965.33</td>\n",
       "    </tr>\n",
       "    <tr>\n",
       "      <th>Total Expenses</th>\n",
       "      <td>929,494.12</td>\n",
       "      <td>NaN</td>\n",
       "    </tr>\n",
       "    <tr>\n",
       "      <th>Net Income</th>\n",
       "      <td>204,093.62</td>\n",
       "      <td>204,093.56</td>\n",
       "    </tr>\n",
       "    <tr>\n",
       "      <th>- Gross</th>\n",
       "      <td>4,909.31</td>\n",
       "      <td>NaN</td>\n",
       "    </tr>\n",
       "    <tr>\n",
       "      <th>- Net</th>\n",
       "      <td>4,035.94</td>\n",
       "      <td>NaN</td>\n",
       "    </tr>\n",
       "    <tr>\n",
       "      <th>Baltic TCE</th>\n",
       "      <td>4,036.00</td>\n",
       "      <td>4,035.93</td>\n",
       "    </tr>\n",
       "  </tbody>\n",
       "</table>\n",
       "</div>"
      ],
      "text/plain": [
       "                     Baltic         Code\n",
       "0                                       \n",
       "Gross Freight  1,177,753.50 1,177,753.50\n",
       "Net Freight    1,133,587.74          NaN\n",
       "Bunker Cost      853,965.28   853,965.33\n",
       "Total Expenses   929,494.12          NaN\n",
       "Net Income       204,093.62   204,093.56\n",
       "- Gross            4,909.31          NaN\n",
       "- Net              4,035.94          NaN\n",
       "Baltic TCE         4,036.00     4,035.93"
      ]
     },
     "execution_count": 5,
     "metadata": {},
     "output_type": "execute_result"
    }
   ],
   "source": [
    "cmp = sh.range(\"B79:C86\").value\n",
    "cmp = pd.DataFrame(cmp).set_index(0)\n",
    "cmp = cmp.rename(columns={1:'Baltic'})\n",
    "cmp['Code'] = pd.Series()\n",
    "cmp.loc['Gross Freight', 'Code'] = res['GrossFreight'].iloc[0]\n",
    "cmp.loc['Bunker Cost', 'Code'] = res['BunkerCost'].iloc[0]\n",
    "cmp.loc['Net Income', 'Code'] = res['NetIncome'].iloc[0]\n",
    "cmp.loc['Baltic TCE', 'Code'] = res['TCE'].iloc[0]\n",
    "cmp"
   ]
  },
  {
   "cell_type": "code",
   "execution_count": null,
   "id": "5638f7f6",
   "metadata": {},
   "outputs": [],
   "source": []
  },
  {
   "cell_type": "code",
   "execution_count": 12,
   "id": "2006a0b9",
   "metadata": {},
   "outputs": [],
   "source": [
    "# gross freight\n",
    "assert sh.range(\"C79\").value == pytest.approx(res['GrossFreight'].iloc[0], abs=1e-1)"
   ]
  },
  {
   "cell_type": "code",
   "execution_count": 8,
   "id": "943a762e",
   "metadata": {},
   "outputs": [],
   "source": [
    "# bunker cost\n",
    "assert sh.range(\"C81\").value == pytest.approx(res['BunkerCost'].iloc[0], abs=1e-1)"
   ]
  },
  {
   "cell_type": "code",
   "execution_count": 11,
   "id": "f7268286",
   "metadata": {},
   "outputs": [],
   "source": [
    "# tce\n",
    "assert sh.range(\"C86\").value == pytest.approx(res['TCE'].iloc[0], abs=1e-1)"
   ]
  },
  {
   "cell_type": "code",
   "execution_count": 15,
   "id": "f80f12b4",
   "metadata": {},
   "outputs": [
    {
     "name": "stdout",
     "output_type": "stream",
     "text": [
      "res['GrossFreight'][ds] ==  pytest.approx(1177753.50, abs=1e-1)\n",
      "res['BunkerCost'][ds] ==  pytest.approx(853965.33, abs=1e-1))\n",
      "res['TCE'][ds] ==  pytest.approx(4035.93, abs=1e-1))\n"
     ]
    }
   ],
   "source": [
    "print(\"res['GrossFreight'][ds] ==  pytest.approx(%.2f, abs=1e-1)\" % res['GrossFreight'].iloc[0])\n",
    "print(\"res['BunkerCost'][ds] ==  pytest.approx(%.2f, abs=1e-1))\" % res['BunkerCost'].iloc[0])\n",
    "print(\"res['TCE'][ds] ==  pytest.approx(%.2f, abs=1e-1))\" % res['TCE'].iloc[0])"
   ]
  }
 ],
 "metadata": {
  "kernelspec": {
   "display_name": "Python 3 (ipykernel)",
   "language": "python",
   "name": "python3"
  },
  "language_info": {
   "codemirror_mode": {
    "name": "ipython",
    "version": 3
   },
   "file_extension": ".py",
   "mimetype": "text/x-python",
   "name": "python",
   "nbconvert_exporter": "python",
   "pygments_lexer": "ipython3",
   "version": "3.9.7"
  }
 },
 "nbformat": 4,
 "nbformat_minor": 5
}
